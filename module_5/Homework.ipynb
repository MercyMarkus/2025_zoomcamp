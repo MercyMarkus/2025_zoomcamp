{
 "cells": [
  {
   "cell_type": "code",
   "execution_count": null,
   "id": "f9ce0f3f-e1cf-4815-a7ca-19d69f4c23c6",
   "metadata": {},
   "outputs": [
    {
     "name": "stdout",
     "output_type": "stream",
     "text": [
      "\n",
      "\n",
      "\u001b7\u001b[2A\u001b[1G\u001b[27G[https://d37ci6vzurychx.cloudfr]\u001b8\u001b7\u001b[1A\u001b[1G\u001b[27G[Files: 0  Bytes: 0  [0 B/s] Re]\u001b8\u001b7\u001b[1S\u001b[3A\u001b[1G\u001b[0JSaving 'yellow_tripdata_2024-10.parquet.2'\n",
      "\u001b8\u001b7\u001b[2A\u001b[1Gyellow_tripdata_2024   1% [>                             ]    1.16M    --.-KB/s\u001b8\u001b7\u001b[1A\u001b[1G\u001b[27G[Files: 0  Bytes: 0  [0 B/s] Re]\u001b8\u001b7\u001b[2A\u001b[1Gyellow_tripdata_2024   9% [=>                            ]    5.91M    4.74MB/s\u001b8\u001b7\u001b[1A\u001b[1G\u001b[27G[Files: 0  Bytes: 0  [0 B/s] Re]\u001b8\u001b7\u001b[2A\u001b[1Gyellow_tripdata_2024  19% [====>                         ]   12.02M    5.42MB/s\u001b8\u001b7\u001b[1A\u001b[1G\u001b[27G[Files: 0  Bytes: 0  [0 B/s] Re]\u001b8\u001b7\u001b[2A\u001b[1Gyellow_tripdata_2024  29% [=======>                      ]   17.95M    5.59MB/s\u001b8\u001b7\u001b[1A\u001b[1G\u001b[27G[Files: 0  Bytes: 0  [0 B/s] Re]\u001b8\u001b7\u001b[2A\u001b[1Gyellow_tripdata_2024  36% [==========>                   ]   22.57M    5.34MB/s\u001b8\u001b7\u001b[1A\u001b[1G\u001b[27G[Files: 0  Bytes: 0  [0 B/s] Re]\u001b8\u001b7\u001b[2A\u001b[1Gyellow_tripdata_2024  43% [============>                 ]   26.64M    5.09MB/s\u001b8\u001b7\u001b[1A\u001b[1G\u001b[27G[Files: 0  Bytes: 0  [0 B/s] Re]\u001b8\u001b7\u001b[2A\u001b[1Gyellow_tripdata_2024  49% [=============>                ]   30.41M    4.87MB/s\u001b8\u001b7\u001b[1A\u001b[1G\u001b[27G[Files: 0  Bytes: 0  [0 B/s] Re]\u001b8\u001b7\u001b[2A\u001b[1Gyellow_tripdata_2024  59% [================>             ]   36.55M    5.05MB/s\u001b8\u001b7\u001b[1A\u001b[1G\u001b[27G[Files: 0  Bytes: 0  [0 B/s] Re]\u001b8"
     ]
    }
   ],
   "source": [
    "# !wget https://d37ci6vzurychx.cloudfront.net/trip-data/yellow_tripdata_2024-10.parquet"
   ]
  },
  {
   "cell_type": "markdown",
   "id": "d9a0376f-f287-4d57-bb57-39ad51316360",
   "metadata": {},
   "source": [
    "## Question 1: Install Spark and PySpark\n",
    "\n",
    "    - Install Spark\n",
    "    - Run PySpark\n",
    "    - Create a local spark session\n",
    "    - Execute spark.version.\n",
    "\n",
    "What's the output?"
   ]
  },
  {
   "cell_type": "code",
   "execution_count": 1,
   "id": "85e30cb6-38d8-4131-9790-802d4e522201",
   "metadata": {},
   "outputs": [
    {
     "name": "stderr",
     "output_type": "stream",
     "text": [
      "Setting default log level to \"WARN\".\n",
      "To adjust logging level use sc.setLogLevel(newLevel). For SparkR, use setLogLevel(newLevel).\n",
      "25/03/13 17:58:48 WARN NativeCodeLoader: Unable to load native-hadoop library for your platform... using builtin-java classes where applicable\n"
     ]
    }
   ],
   "source": [
    "import pyspark\n",
    "from pyspark.sql import SparkSession\n",
    "\n",
    "spark = SparkSession.builder \\\n",
    "    .master(\"local[*]\") \\\n",
    "    .appName('test') \\\n",
    "    .getOrCreate()"
   ]
  },
  {
   "cell_type": "code",
   "execution_count": 2,
   "id": "25b914bd-9a92-4875-bb53-ea9e5df3c4f3",
   "metadata": {},
   "outputs": [
    {
     "data": {
      "text/plain": [
       "'3.5.5'"
      ]
     },
     "execution_count": 2,
     "metadata": {},
     "output_type": "execute_result"
    },
    {
     "name": "stderr",
     "output_type": "stream",
     "text": [
      "25/03/13 17:59:02 WARN GarbageCollectionMetrics: To enable non-built-in garbage collector(s) List(G1 Concurrent GC), users should configure it(them) to spark.eventLog.gcMetrics.youngGenerationGarbageCollectors or spark.eventLog.gcMetrics.oldGenerationGarbageCollectors\n"
     ]
    }
   ],
   "source": [
    "spark.version"
   ]
  },
  {
   "cell_type": "markdown",
   "id": "ae2bac75-299c-4cca-a95f-45f5136e033d",
   "metadata": {},
   "source": [
    "## Question 2: Yellow October 2024\n",
    "Read the October 2024 Yellow into a Spark Dataframe.\n",
    "\n",
    "Repartition the Dataframe to 4 partitions and save it to parquet.\n",
    "\n",
    "What is the average size of the Parquet (ending with .parquet extension) Files that were created (in MB)? Select the answer which most closely matches."
   ]
  },
  {
   "cell_type": "code",
   "execution_count": 48,
   "id": "3d15fcf9-237e-4d1f-b0fa-e19377a6775c",
   "metadata": {},
   "outputs": [],
   "source": [
    "df = spark.read.parquet('yellow_tripdata_2024-10.parquet')"
   ]
  },
  {
   "cell_type": "code",
   "execution_count": 35,
   "id": "0f2c75b0-be67-4d1f-941e-80654f11014c",
   "metadata": {},
   "outputs": [
    {
     "name": "stdout",
     "output_type": "stream",
     "text": [
      "root\n",
      " |-- VendorID: integer (nullable = true)\n",
      " |-- tpep_pickup_datetime: timestamp_ntz (nullable = true)\n",
      " |-- tpep_dropoff_datetime: timestamp_ntz (nullable = true)\n",
      " |-- passenger_count: long (nullable = true)\n",
      " |-- trip_distance: double (nullable = true)\n",
      " |-- RatecodeID: long (nullable = true)\n",
      " |-- store_and_fwd_flag: string (nullable = true)\n",
      " |-- PULocationID: integer (nullable = true)\n",
      " |-- DOLocationID: integer (nullable = true)\n",
      " |-- payment_type: long (nullable = true)\n",
      " |-- fare_amount: double (nullable = true)\n",
      " |-- extra: double (nullable = true)\n",
      " |-- mta_tax: double (nullable = true)\n",
      " |-- tip_amount: double (nullable = true)\n",
      " |-- tolls_amount: double (nullable = true)\n",
      " |-- improvement_surcharge: double (nullable = true)\n",
      " |-- total_amount: double (nullable = true)\n",
      " |-- congestion_surcharge: double (nullable = true)\n",
      " |-- Airport_fee: double (nullable = true)\n",
      "\n"
     ]
    }
   ],
   "source": [
    "df.printSchema()"
   ]
  },
  {
   "cell_type": "code",
   "execution_count": 36,
   "id": "56a7653b-6c4a-4df4-a043-0a36e75724a7",
   "metadata": {},
   "outputs": [
    {
     "data": {
      "text/plain": [
       "DataFrame[VendorID: int, tpep_pickup_datetime: timestamp_ntz, tpep_dropoff_datetime: timestamp_ntz, passenger_count: bigint, trip_distance: double, RatecodeID: bigint, store_and_fwd_flag: string, PULocationID: int, DOLocationID: int, payment_type: bigint, fare_amount: double, extra: double, mta_tax: double, tip_amount: double, tolls_amount: double, improvement_surcharge: double, total_amount: double, congestion_surcharge: double, Airport_fee: double]"
      ]
     },
     "execution_count": 36,
     "metadata": {},
     "output_type": "execute_result"
    }
   ],
   "source": [
    "df"
   ]
  },
  {
   "cell_type": "code",
   "execution_count": 14,
   "id": "296c4efc-3ddc-411a-a049-f992acc76244",
   "metadata": {},
   "outputs": [
    {
     "name": "stderr",
     "output_type": "stream",
     "text": [
      "                                                                                "
     ]
    }
   ],
   "source": [
    "df = df.repartition(4)\n",
    "df.write.parquet('yellow/2024/10/')"
   ]
  },
  {
   "cell_type": "code",
   "execution_count": 49,
   "id": "281bdb0b-74c3-4edb-b604-ce716e149092",
   "metadata": {},
   "outputs": [
    {
     "name": "stdout",
     "output_type": "stream",
     "text": [
      "total 90M\n",
      "-rw-r--r--. 1 dauntless dauntless 23M Mar 13 18:15 part-00000-2a68f72a-870f-4ce2-a040-79c5209a1836-c000.snappy.parquet\n",
      "-rw-r--r--. 1 dauntless dauntless 23M Mar 13 18:15 part-00001-2a68f72a-870f-4ce2-a040-79c5209a1836-c000.snappy.parquet\n",
      "-rw-r--r--. 1 dauntless dauntless 23M Mar 13 18:15 part-00002-2a68f72a-870f-4ce2-a040-79c5209a1836-c000.snappy.parquet\n",
      "-rw-r--r--. 1 dauntless dauntless 23M Mar 13 18:15 part-00003-2a68f72a-870f-4ce2-a040-79c5209a1836-c000.snappy.parquet\n",
      "-rw-r--r--. 1 dauntless dauntless   0 Mar 13 18:15 _SUCCESS\n"
     ]
    }
   ],
   "source": [
    "!ls -lh ./yellow/2024/10"
   ]
  },
  {
   "cell_type": "markdown",
   "id": "6d03fb6b-fa0e-4694-b6bb-b610a7f2c198",
   "metadata": {},
   "source": [
    "## Question 3: Count records\n",
    "How many taxi trips were there on the 15th of October?\n",
    "\n",
    "Consider only trips that started on the 15th of October."
   ]
  },
  {
   "cell_type": "code",
   "execution_count": 81,
   "id": "a00efe21-8fd8-4f08-a142-c845cf5eaf4c",
   "metadata": {},
   "outputs": [
    {
     "data": {
      "text/plain": [
       "128893"
      ]
     },
     "execution_count": 81,
     "metadata": {},
     "output_type": "execute_result"
    }
   ],
   "source": [
    "from pyspark.sql import functions as F\n",
    "\n",
    "df \\\n",
    "    .withColumn('tpep_pickup_datetime', F.to_date(df.tpep_pickup_datetime)) \\\n",
    "    .filter(\"tpep_pickup_datetime = '2024-10-15'\") \\\n",
    "    .count()"
   ]
  },
  {
   "cell_type": "code",
   "execution_count": 60,
   "id": "a20be626-7c92-4aeb-b80e-8e2b198eb1e1",
   "metadata": {},
   "outputs": [],
   "source": [
    "df.createOrReplaceTempView('trips_data')"
   ]
  },
  {
   "cell_type": "code",
   "execution_count": 82,
   "id": "419f1d66-ae45-4876-a378-00f61c747b0b",
   "metadata": {},
   "outputs": [
    {
     "name": "stdout",
     "output_type": "stream",
     "text": [
      "+--------+\n",
      "|count(1)|\n",
      "+--------+\n",
      "|  128893|\n",
      "+--------+\n",
      "\n"
     ]
    }
   ],
   "source": [
    "spark.sql(\"\"\"\n",
    "SELECT\n",
    "    COUNT(1)\n",
    "FROM \n",
    "    trips_data\n",
    "WHERE\n",
    "    to_date(tpep_pickup_datetime) = '2024-10-15';\n",
    "\"\"\").show()"
   ]
  },
  {
   "cell_type": "code",
   "execution_count": 83,
   "id": "983f9516-31e6-4e80-ac6d-40419ed6e7c1",
   "metadata": {},
   "outputs": [
    {
     "data": {
      "text/plain": [
       "['VendorID',\n",
       " 'tpep_pickup_datetime',\n",
       " 'tpep_dropoff_datetime',\n",
       " 'passenger_count',\n",
       " 'trip_distance',\n",
       " 'RatecodeID',\n",
       " 'store_and_fwd_flag',\n",
       " 'PULocationID',\n",
       " 'DOLocationID',\n",
       " 'payment_type',\n",
       " 'fare_amount',\n",
       " 'extra',\n",
       " 'mta_tax',\n",
       " 'tip_amount',\n",
       " 'tolls_amount',\n",
       " 'improvement_surcharge',\n",
       " 'total_amount',\n",
       " 'congestion_surcharge',\n",
       " 'Airport_fee']"
      ]
     },
     "execution_count": 83,
     "metadata": {},
     "output_type": "execute_result"
    }
   ],
   "source": [
    "df.columns"
   ]
  },
  {
   "cell_type": "markdown",
   "id": "e5b3bae2-76ee-4ff2-9946-c167128822cd",
   "metadata": {},
   "source": [
    "## Question 4: Longest trip\n",
    "What is the length of the longest trip in the dataset in hours?"
   ]
  },
  {
   "cell_type": "code",
   "execution_count": 107,
   "id": "2dee957d-978e-4744-a25c-24643e827544",
   "metadata": {},
   "outputs": [
    {
     "name": "stdout",
     "output_type": "stream",
     "text": [
      "+-------------------+\n",
      "|trip_duration_hours|\n",
      "+-------------------+\n",
      "| 162.61777777777777|\n",
      "|            143.325|\n",
      "| 137.76055555555556|\n",
      "| 114.83472222222223|\n",
      "|  89.89833333333333|\n",
      "|  89.44611111111111|\n",
      "|  70.29916666666666|\n",
      "|  67.57333333333334|\n",
      "|  66.06666666666666|\n",
      "|            46.4225|\n",
      "+-------------------+\n",
      "\n"
     ]
    }
   ],
   "source": [
    "spark.sql(\"\"\"\n",
    "SELECT\n",
    "    (unix_timestamp(tpep_dropoff_datetime) - unix_timestamp(tpep_pickup_datetime)) / 3600 AS trip_duration_hours\n",
    "FROM \n",
    "    trips_data\n",
    "ORDER BY\n",
    "    1 DESC\n",
    "LIMIT 10;\n",
    "\"\"\").show()"
   ]
  },
  {
   "cell_type": "markdown",
   "id": "1ae0bf21-619d-4c03-97bd-3c0da7ff5424",
   "metadata": {},
   "source": [
    "## Question 6: Least frequent pickup location zone"
   ]
  },
  {
   "cell_type": "code",
   "execution_count": 108,
   "id": "9fb06226-7696-4b1f-a62c-650d16ee7f29",
   "metadata": {},
   "outputs": [
    {
     "name": "stdout",
     "output_type": "stream",
     "text": [
      "\n",
      "\n",
      "\u001b7\u001b[2A\u001b[1G\u001b[27G[https://d37ci6vzurychx.cloudfr]\u001b8\u001b7\u001b[1A\u001b[1G\u001b[27G[Files: 0  Bytes: 0  [0 B/s] Re]\u001b8\u001b7\u001b[1S\u001b[3A\u001b[1G\u001b[0JSaving 'taxi_zone_lookup.csv'\n",
      "\u001b8\u001b7\u001b[2A\u001b[1Gtaxi_zone_lookup.csv 100% [=============================>]    2.98K    --.-KB/s\u001b8\u001b7\u001b[1S\u001b[3A\u001b[1G\u001b[0JHTTP response 200  [https://d37ci6vzurychx.cloudfront.net/misc/taxi_zone_lookup.csv]\n",
      "\u001b8\u001b7\u001b[2A\u001b[1Gtaxi_zone_lookup.csv 100% [=============================>]    2.98K    --.-KB/s\u001b8\u001b7\u001b[1A\u001b[1G\u001b[27G[Files: 1  Bytes: 2.98K [2.74KB]\u001b8\u001b[m\u001b[m\u001b[m\u001b[m"
     ]
    }
   ],
   "source": [
    "!wget https://d37ci6vzurychx.cloudfront.net/misc/taxi_zone_lookup.csv"
   ]
  },
  {
   "cell_type": "code",
   "execution_count": 119,
   "id": "6d731976-e29f-435b-9add-aea232ea8d59",
   "metadata": {},
   "outputs": [],
   "source": [
    "df_taxi_zones = spark.read.option(\"header\", \"true\").csv('taxi_zone_lookup.csv')"
   ]
  },
  {
   "cell_type": "code",
   "execution_count": 129,
   "id": "611401e8-a581-4389-be9e-4f603795ff5d",
   "metadata": {},
   "outputs": [
    {
     "data": {
      "text/plain": [
       "['LocationID', 'Borough', 'Zone', 'service_zone']"
      ]
     },
     "execution_count": 129,
     "metadata": {},
     "output_type": "execute_result"
    }
   ],
   "source": [
    "df_taxi_zones.columns"
   ]
  },
  {
   "cell_type": "code",
   "execution_count": 112,
   "id": "1015228b-940b-4f3c-ac12-d9ec57db224f",
   "metadata": {},
   "outputs": [],
   "source": [
    "df_taxi_zones.createOrReplaceTempView('taxi_zones')"
   ]
  },
  {
   "cell_type": "code",
   "execution_count": 122,
   "id": "48d54893-bcde-4785-b1e1-5b90614865e3",
   "metadata": {},
   "outputs": [],
   "source": [
    "df_result = df.join(df_taxi_zones, df.PULocationID == df_taxi_zones.LocationID)"
   ]
  },
  {
   "cell_type": "code",
   "execution_count": 128,
   "id": "3efd18c4-141d-4ff2-b877-949fac4cc049",
   "metadata": {},
   "outputs": [],
   "source": [
    "df_result.createOrReplaceTempView('trips_and_zones')"
   ]
  },
  {
   "cell_type": "code",
   "execution_count": 156,
   "id": "402b93a3-3b92-4e23-90e2-598d57c12489",
   "metadata": {},
   "outputs": [
    {
     "name": "stdout",
     "output_type": "stream",
     "text": [
      "+---------------------------------------------+--------+\n",
      "|Zone                                         |count(1)|\n",
      "+---------------------------------------------+--------+\n",
      "|Governor's Island/Ellis Island/Liberty Island|1       |\n",
      "|Rikers Island                                |2       |\n",
      "|Arden Heights                                |2       |\n",
      "|Jamaica Bay                                  |3       |\n",
      "|Green-Wood Cemetery                          |3       |\n",
      "|Charleston/Tottenville                       |4       |\n",
      "|Rossville/Woodrow                            |4       |\n",
      "|West Brighton                                |4       |\n",
      "|Port Richmond                                |4       |\n",
      "|Eltingville/Annadale/Prince's Bay            |4       |\n",
      "+---------------------------------------------+--------+\n",
      "\n"
     ]
    }
   ],
   "source": [
    "spark.sql(\"\"\"\n",
    "SELECT\n",
    "    Zone, COUNT(1)\n",
    "FROM \n",
    "    trips_and_zones\n",
    "GROUP BY\n",
    "    1\n",
    "ORDER BY\n",
    "    2 ASC\n",
    "LIMIT 10;\n",
    "\"\"\").show(truncate=False)"
   ]
  },
  {
   "cell_type": "code",
   "execution_count": 132,
   "id": "cfd68e0b-a342-4a28-9d6c-76b98057a2b5",
   "metadata": {},
   "outputs": [
    {
     "name": "stdout",
     "output_type": "stream",
     "text": [
      "download_data.sh      yellow\n",
      "Homework.ipynb\t      yellow_tripdata_2024-10.parquet\n",
      "README.md\t      yellow_tripdata_2024-10.parquet.1\n",
      "taxi_zone_lookup.csv  yellow_tripdata_2024-10.parquet.2\n"
     ]
    }
   ],
   "source": [
    "!ls"
   ]
  },
  {
   "cell_type": "code",
   "execution_count": null,
   "id": "c54d17af-48b8-4e05-8856-8580c0c69fa1",
   "metadata": {},
   "outputs": [],
   "source": []
  }
 ],
 "metadata": {
  "kernelspec": {
   "display_name": "Python 3 (ipykernel)",
   "language": "python",
   "name": "python3"
  },
  "language_info": {
   "codemirror_mode": {
    "name": "ipython",
    "version": 3
   },
   "file_extension": ".py",
   "mimetype": "text/x-python",
   "name": "python",
   "nbconvert_exporter": "python",
   "pygments_lexer": "ipython3",
   "version": "3.12.9"
  }
 },
 "nbformat": 4,
 "nbformat_minor": 5
}
